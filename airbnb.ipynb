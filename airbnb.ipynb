{
 "cells": [
  {
   "cell_type": "code",
   "execution_count": null,
   "metadata": {},
   "outputs": [],
   "source": [
    " # What influences Airbnb prices? Does property description tell us about rent price? Random forest vs. light gradient boosting.\n",
    "#Katrina Hramovich"
   ]
  },
  {
   "cell_type": "markdown",
   "metadata": {},
   "source": [
    "# Outline\n",
    "\n",
    "1. Introduction \n",
    "2. What month has the highest rent prices?\n",
    "3. What other features can be important for prices prediction?\n",
    "4. What performs better Random Forest or Light Gradient Boosting? \n",
    "5. Do prices correlate with property description text? Mixed model.\n",
    "6. Conclusion\n"
   ]
  },
  {
   "cell_type": "code",
   "execution_count": null,
   "metadata": {},
   "outputs": [],
   "source": [
    "# Introduction\n",
    "\n",
    "#Airbnb day prices in Seattle are predicted using feature engineering, random forest and light gradient boosting feature selection and regression. These models aim to help hosts establish appropriate rental prices and also to find out what features can influence rental price the most. Text features such as name and description are also considered. \n",
    "#Here we also compare random forest and light gradient boosting performance. Light Gradient Boosting (LGB) is relatively fast algorithm comparing with other boosting methods. In the final test the sum of two LGB models was applied to reduce overfitting. Final best R2 score on test is 0.736\n",
    "#Data are downloaded from https://www.kaggle.com/airbnb/seattle\n",
    "#Notebook with code is at https://github.com/KatrinaHramovich/Airbnb-modeling-project"
   ]
  },
  {
   "cell_type": "code",
   "execution_count": 40,
   "metadata": {},
   "outputs": [],
   "source": [
    "import pandas as pd\n",
    "import matplotlib.pyplot as plt\n",
    "import numpy as np\n",
    "import seaborn as sns\n",
    "import lightgbm as lgb\n",
    "from lightgbm import LGBMModel\n",
    "from sklearn.model_selection import cross_val_score, train_test_split\n",
    "from sklearn.metrics import r2_score, mean_squared_error\n",
    "from sklearn.feature_extraction.text import CountVectorizer, TfidfVectorizer\n",
    "from sklearn import ensemble\n",
    "from sklearn.preprocessing import LabelEncoder\n",
    "import lightgbm as lgb\n",
    "import scipy\n",
    "from scipy.sparse import hstack\n",
    "import warnings\n",
    "warnings.filterwarnings(\"ignore\", category=FutureWarning)\n",
    "from sklearn.ensemble import RandomForestRegressor"
   ]
  },
  {
   "cell_type": "code",
   "execution_count": 46,
   "metadata": {
    "scrolled": true
   },
   "outputs": [
    {
     "data": {
      "text/html": [
       "<div>\n",
       "<style scoped>\n",
       "    .dataframe tbody tr th:only-of-type {\n",
       "        vertical-align: middle;\n",
       "    }\n",
       "\n",
       "    .dataframe tbody tr th {\n",
       "        vertical-align: top;\n",
       "    }\n",
       "\n",
       "    .dataframe thead th {\n",
       "        text-align: right;\n",
       "    }\n",
       "</style>\n",
       "<table border=\"1\" class=\"dataframe\">\n",
       "  <thead>\n",
       "    <tr style=\"text-align: right;\">\n",
       "      <th></th>\n",
       "      <th>id</th>\n",
       "      <th>listing_url</th>\n",
       "      <th>scrape_id</th>\n",
       "      <th>last_scraped</th>\n",
       "      <th>name</th>\n",
       "      <th>summary</th>\n",
       "      <th>space</th>\n",
       "      <th>description</th>\n",
       "      <th>experiences_offered</th>\n",
       "      <th>neighborhood_overview</th>\n",
       "      <th>...</th>\n",
       "      <th>review_scores_value</th>\n",
       "      <th>requires_license</th>\n",
       "      <th>license</th>\n",
       "      <th>jurisdiction_names</th>\n",
       "      <th>instant_bookable</th>\n",
       "      <th>cancellation_policy</th>\n",
       "      <th>require_guest_profile_picture</th>\n",
       "      <th>require_guest_phone_verification</th>\n",
       "      <th>calculated_host_listings_count</th>\n",
       "      <th>reviews_per_month</th>\n",
       "    </tr>\n",
       "  </thead>\n",
       "  <tbody>\n",
       "    <tr>\n",
       "      <th>0</th>\n",
       "      <td>241032</td>\n",
       "      <td>https://www.airbnb.com/rooms/241032</td>\n",
       "      <td>20160104002432</td>\n",
       "      <td>2016-01-04</td>\n",
       "      <td>Stylish Queen Anne Apartment</td>\n",
       "      <td>NaN</td>\n",
       "      <td>Make your self at home in this charming one-be...</td>\n",
       "      <td>Make your self at home in this charming one-be...</td>\n",
       "      <td>none</td>\n",
       "      <td>NaN</td>\n",
       "      <td>...</td>\n",
       "      <td>10.0</td>\n",
       "      <td>f</td>\n",
       "      <td>NaN</td>\n",
       "      <td>WASHINGTON</td>\n",
       "      <td>f</td>\n",
       "      <td>moderate</td>\n",
       "      <td>f</td>\n",
       "      <td>f</td>\n",
       "      <td>2</td>\n",
       "      <td>4.07</td>\n",
       "    </tr>\n",
       "    <tr>\n",
       "      <th>1</th>\n",
       "      <td>953595</td>\n",
       "      <td>https://www.airbnb.com/rooms/953595</td>\n",
       "      <td>20160104002432</td>\n",
       "      <td>2016-01-04</td>\n",
       "      <td>Bright &amp; Airy Queen Anne Apartment</td>\n",
       "      <td>Chemically sensitive? We've removed the irrita...</td>\n",
       "      <td>Beautiful, hypoallergenic apartment in an extr...</td>\n",
       "      <td>Chemically sensitive? We've removed the irrita...</td>\n",
       "      <td>none</td>\n",
       "      <td>Queen Anne is a wonderful, truly functional vi...</td>\n",
       "      <td>...</td>\n",
       "      <td>10.0</td>\n",
       "      <td>f</td>\n",
       "      <td>NaN</td>\n",
       "      <td>WASHINGTON</td>\n",
       "      <td>f</td>\n",
       "      <td>strict</td>\n",
       "      <td>t</td>\n",
       "      <td>t</td>\n",
       "      <td>6</td>\n",
       "      <td>1.48</td>\n",
       "    </tr>\n",
       "    <tr>\n",
       "      <th>2</th>\n",
       "      <td>3308979</td>\n",
       "      <td>https://www.airbnb.com/rooms/3308979</td>\n",
       "      <td>20160104002432</td>\n",
       "      <td>2016-01-04</td>\n",
       "      <td>New Modern House-Amazing water view</td>\n",
       "      <td>New modern house built in 2013.  Spectacular s...</td>\n",
       "      <td>Our house is modern, light and fresh with a wa...</td>\n",
       "      <td>New modern house built in 2013.  Spectacular s...</td>\n",
       "      <td>none</td>\n",
       "      <td>Upper Queen Anne is a charming neighborhood fu...</td>\n",
       "      <td>...</td>\n",
       "      <td>10.0</td>\n",
       "      <td>f</td>\n",
       "      <td>NaN</td>\n",
       "      <td>WASHINGTON</td>\n",
       "      <td>f</td>\n",
       "      <td>strict</td>\n",
       "      <td>f</td>\n",
       "      <td>f</td>\n",
       "      <td>2</td>\n",
       "      <td>1.15</td>\n",
       "    </tr>\n",
       "    <tr>\n",
       "      <th>3</th>\n",
       "      <td>7421966</td>\n",
       "      <td>https://www.airbnb.com/rooms/7421966</td>\n",
       "      <td>20160104002432</td>\n",
       "      <td>2016-01-04</td>\n",
       "      <td>Queen Anne Chateau</td>\n",
       "      <td>A charming apartment that sits atop Queen Anne...</td>\n",
       "      <td>NaN</td>\n",
       "      <td>A charming apartment that sits atop Queen Anne...</td>\n",
       "      <td>none</td>\n",
       "      <td>NaN</td>\n",
       "      <td>...</td>\n",
       "      <td>NaN</td>\n",
       "      <td>f</td>\n",
       "      <td>NaN</td>\n",
       "      <td>WASHINGTON</td>\n",
       "      <td>f</td>\n",
       "      <td>flexible</td>\n",
       "      <td>f</td>\n",
       "      <td>f</td>\n",
       "      <td>1</td>\n",
       "      <td>NaN</td>\n",
       "    </tr>\n",
       "    <tr>\n",
       "      <th>4</th>\n",
       "      <td>278830</td>\n",
       "      <td>https://www.airbnb.com/rooms/278830</td>\n",
       "      <td>20160104002432</td>\n",
       "      <td>2016-01-04</td>\n",
       "      <td>Charming craftsman 3 bdm house</td>\n",
       "      <td>Cozy family craftman house in beautiful neighb...</td>\n",
       "      <td>Cozy family craftman house in beautiful neighb...</td>\n",
       "      <td>Cozy family craftman house in beautiful neighb...</td>\n",
       "      <td>none</td>\n",
       "      <td>We are in the beautiful neighborhood of Queen ...</td>\n",
       "      <td>...</td>\n",
       "      <td>9.0</td>\n",
       "      <td>f</td>\n",
       "      <td>NaN</td>\n",
       "      <td>WASHINGTON</td>\n",
       "      <td>f</td>\n",
       "      <td>strict</td>\n",
       "      <td>f</td>\n",
       "      <td>f</td>\n",
       "      <td>1</td>\n",
       "      <td>0.89</td>\n",
       "    </tr>\n",
       "  </tbody>\n",
       "</table>\n",
       "<p>5 rows × 92 columns</p>\n",
       "</div>"
      ],
      "text/plain": [
       "        id                           listing_url       scrape_id last_scraped  \\\n",
       "0   241032   https://www.airbnb.com/rooms/241032  20160104002432   2016-01-04   \n",
       "1   953595   https://www.airbnb.com/rooms/953595  20160104002432   2016-01-04   \n",
       "2  3308979  https://www.airbnb.com/rooms/3308979  20160104002432   2016-01-04   \n",
       "3  7421966  https://www.airbnb.com/rooms/7421966  20160104002432   2016-01-04   \n",
       "4   278830   https://www.airbnb.com/rooms/278830  20160104002432   2016-01-04   \n",
       "\n",
       "                                  name  \\\n",
       "0         Stylish Queen Anne Apartment   \n",
       "1   Bright & Airy Queen Anne Apartment   \n",
       "2  New Modern House-Amazing water view   \n",
       "3                   Queen Anne Chateau   \n",
       "4       Charming craftsman 3 bdm house   \n",
       "\n",
       "                                             summary  \\\n",
       "0                                                NaN   \n",
       "1  Chemically sensitive? We've removed the irrita...   \n",
       "2  New modern house built in 2013.  Spectacular s...   \n",
       "3  A charming apartment that sits atop Queen Anne...   \n",
       "4  Cozy family craftman house in beautiful neighb...   \n",
       "\n",
       "                                               space  \\\n",
       "0  Make your self at home in this charming one-be...   \n",
       "1  Beautiful, hypoallergenic apartment in an extr...   \n",
       "2  Our house is modern, light and fresh with a wa...   \n",
       "3                                                NaN   \n",
       "4  Cozy family craftman house in beautiful neighb...   \n",
       "\n",
       "                                         description experiences_offered  \\\n",
       "0  Make your self at home in this charming one-be...                none   \n",
       "1  Chemically sensitive? We've removed the irrita...                none   \n",
       "2  New modern house built in 2013.  Spectacular s...                none   \n",
       "3  A charming apartment that sits atop Queen Anne...                none   \n",
       "4  Cozy family craftman house in beautiful neighb...                none   \n",
       "\n",
       "                               neighborhood_overview  ... review_scores_value  \\\n",
       "0                                                NaN  ...                10.0   \n",
       "1  Queen Anne is a wonderful, truly functional vi...  ...                10.0   \n",
       "2  Upper Queen Anne is a charming neighborhood fu...  ...                10.0   \n",
       "3                                                NaN  ...                 NaN   \n",
       "4  We are in the beautiful neighborhood of Queen ...  ...                 9.0   \n",
       "\n",
       "  requires_license license jurisdiction_names instant_bookable  \\\n",
       "0                f     NaN         WASHINGTON                f   \n",
       "1                f     NaN         WASHINGTON                f   \n",
       "2                f     NaN         WASHINGTON                f   \n",
       "3                f     NaN         WASHINGTON                f   \n",
       "4                f     NaN         WASHINGTON                f   \n",
       "\n",
       "  cancellation_policy  require_guest_profile_picture  \\\n",
       "0            moderate                              f   \n",
       "1              strict                              t   \n",
       "2              strict                              f   \n",
       "3            flexible                              f   \n",
       "4              strict                              f   \n",
       "\n",
       "  require_guest_phone_verification calculated_host_listings_count  \\\n",
       "0                                f                              2   \n",
       "1                                t                              6   \n",
       "2                                f                              2   \n",
       "3                                f                              1   \n",
       "4                                f                              1   \n",
       "\n",
       "  reviews_per_month  \n",
       "0              4.07  \n",
       "1              1.48  \n",
       "2              1.15  \n",
       "3               NaN  \n",
       "4              0.89  \n",
       "\n",
       "[5 rows x 92 columns]"
      ]
     },
     "execution_count": 46,
     "metadata": {},
     "output_type": "execute_result"
    }
   ],
   "source": [
    "df=pd.read_csv(\"listings.csv\")\n",
    "dfcal=pd.read_csv(\"calendar.csv\")\n",
    "df.head()"
   ]
  },
  {
   "cell_type": "code",
   "execution_count": 47,
   "metadata": {},
   "outputs": [],
   "source": [
    "dfcal['month']=dfcal['date'].apply(lambda x: int(x.split('-')[1]))\n",
    "dfcal=dfcal.rename(columns={'listing_id': 'id'})\n",
    "dfcal=dfcal[['id', 'month', 'price']].copy()"
   ]
  },
  {
   "cell_type": "code",
   "execution_count": 48,
   "metadata": {},
   "outputs": [],
   "source": [
    "df['price']=df['price'].apply(lambda x: float(x[1:].replace(',','')))\n",
    "dfcal=dfcal.dropna()\n",
    "dfcal['price']=dfcal['price'].apply(lambda x: float(x[1:].replace(',','')))"
   ]
  },
  {
   "cell_type": "code",
   "execution_count": 49,
   "metadata": {},
   "outputs": [],
   "source": [
    "mp = dfcal[['month', 'price']].groupby('month').mean()"
   ]
  },
  {
   "cell_type": "code",
   "execution_count": 50,
   "metadata": {
    "scrolled": true
   },
   "outputs": [
    {
     "data": {
      "text/html": [
       "<div>\n",
       "<style scoped>\n",
       "    .dataframe tbody tr th:only-of-type {\n",
       "        vertical-align: middle;\n",
       "    }\n",
       "\n",
       "    .dataframe tbody tr th {\n",
       "        vertical-align: top;\n",
       "    }\n",
       "\n",
       "    .dataframe thead th {\n",
       "        text-align: right;\n",
       "    }\n",
       "</style>\n",
       "<table border=\"1\" class=\"dataframe\">\n",
       "  <thead>\n",
       "    <tr style=\"text-align: right;\">\n",
       "      <th></th>\n",
       "      <th>id</th>\n",
       "      <th>month</th>\n",
       "      <th>price</th>\n",
       "    </tr>\n",
       "  </thead>\n",
       "  <tbody>\n",
       "    <tr>\n",
       "      <th>0</th>\n",
       "      <td>241032</td>\n",
       "      <td>1</td>\n",
       "      <td>85.0</td>\n",
       "    </tr>\n",
       "    <tr>\n",
       "      <th>28</th>\n",
       "      <td>241032</td>\n",
       "      <td>2</td>\n",
       "      <td>85.0</td>\n",
       "    </tr>\n",
       "    <tr>\n",
       "      <th>57</th>\n",
       "      <td>241032</td>\n",
       "      <td>3</td>\n",
       "      <td>85.0</td>\n",
       "    </tr>\n",
       "    <tr>\n",
       "      <th>88</th>\n",
       "      <td>241032</td>\n",
       "      <td>4</td>\n",
       "      <td>85.0</td>\n",
       "    </tr>\n",
       "    <tr>\n",
       "      <th>118</th>\n",
       "      <td>241032</td>\n",
       "      <td>5</td>\n",
       "      <td>85.0</td>\n",
       "    </tr>\n",
       "  </tbody>\n",
       "</table>\n",
       "</div>"
      ],
      "text/plain": [
       "         id  month  price\n",
       "0    241032      1   85.0\n",
       "28   241032      2   85.0\n",
       "57   241032      3   85.0\n",
       "88   241032      4   85.0\n",
       "118  241032      5   85.0"
      ]
     },
     "execution_count": 50,
     "metadata": {},
     "output_type": "execute_result"
    }
   ],
   "source": [
    "#It is important to remove duplicates at the end. If we get duplicates in test and train after spliting it will show better result compared\n",
    "#to the case if we get new test set without duplicates. It can be misleading as overfitting.\n",
    "dfcal=dfcal.dropna()\n",
    "dfcal=dfcal.drop_duplicates()\n",
    "dfcal.head()"
   ]
  },
  {
   "cell_type": "markdown",
   "metadata": {},
   "source": [
    "Model evaluation function fits training data, predicts and computes score"
   ]
  },
  {
   "cell_type": "code",
   "execution_count": 51,
   "metadata": {},
   "outputs": [],
   "source": [
    "def model_eval(X_train, y_train, X_test, y_test, model):\n",
    "    '''\n",
    "    input: X is features data frame, y is respones, model\n",
    "    output: train cross validation score, test score, predicted values\n",
    "    \n",
    "    '''\n",
    "    #X_train, X_test, y_train, y_test = train_test_split(X, y, test_size=0.3, random_state=41)\n",
    "    model.fit(X_train, np.ravel(y_train))\n",
    "    y_pred = model.predict(X_test)\n",
    "    score = cross_val_score(model, X_train, y_train, scoring = 'r2', cv = 5)\n",
    "    test_score = r2_score(y_test, y_pred)\n",
    "    return score, test_score, y_pred\n",
    "\n",
    "def plot_dist(col):\n",
    "    '''\n",
    "    plot distribution of feature in column col\n",
    "    '''\n",
    "    dfc=df[['id', col]].groupby([col]).count()\n",
    "    (dfc/df.shape[0]).plot(kind=\"bar\");\n",
    "def plot_features(X, model, name):\n",
    "    '''\n",
    "    plot random forest features importance\n",
    "    input: dataframe X and regression model\n",
    "    output: Feature importance plot\n",
    "    '''\n",
    "    print(\"Plot feature importances…\")\n",
    "    headers = [\"name\", \"score\"]\n",
    "    values = sorted(zip(X.columns, model.feature_importances_), key=lambda x: x[1] * -1)\n",
    "    forest_feature_importances = pd.DataFrame(values, columns = headers)\n",
    "    forest_feature_importances = forest_feature_importances.sort_values(by = ['score'], ascending = False)\n",
    "    features = forest_feature_importances['name'][:25]\n",
    "    y_pos = np.arange(len(features))\n",
    "    scores = forest_feature_importances['score'][:25]\n",
    "    #plot feature importances\n",
    "    plt.figure(figsize=(10,5))\n",
    "    plt.bar(y_pos, scores, align='center', alpha=0.5)\n",
    "    plt.xticks(y_pos, features, rotation='vertical')\n",
    "    plt.ylabel('Score')\n",
    "    plt.xlabel('Features')\n",
    "    plt.title('Feature importances' + name)\n",
    "    plt.show()\n",
    "def tfidf_text_transform(df_train, df_test, max_features):\n",
    "    '''\n",
    "    input: df is dataframe to transform,\n",
    "           max_features is maximum features\n",
    "    output: transformed text\n",
    "    '''\n",
    "    count = TfidfVectorizer(max_features = max_features, \n",
    "                              ngram_range = (1,3),\n",
    "                              stop_words = \"english\")\n",
    "    return count.fit_transform(df_train), count.transform(df_test), count\n",
    "    \n",
    "def most_popular_words(count, X, n):\n",
    "    '''\n",
    "    income: count is  fitted and transformed TfidfVectorizer\n",
    "            X resulting text features\n",
    "            n is number of top n wods\n",
    "    outcome: print n top words\n",
    "    '''\n",
    "    feature_array = np.array(count.get_feature_names())\n",
    "    tfidf_sorting = np.argsort(X.toarray()).flatten()[::-1]\n",
    "    top_n = feature_array[tfidf_sorting][:n]\n",
    "    print(top_n)"
   ]
  },
  {
   "cell_type": "code",
   "execution_count": 52,
   "metadata": {},
   "outputs": [
    {
     "name": "stdout",
     "output_type": "stream",
     "text": [
      "92\n",
      "3818\n",
      "Index(['id', 'listing_url', 'scrape_id', 'last_scraped', 'name', 'summary',\n",
      "       'space', 'description', 'experiences_offered', 'neighborhood_overview',\n",
      "       'notes', 'transit', 'thumbnail_url', 'medium_url', 'picture_url',\n",
      "       'xl_picture_url', 'host_id', 'host_url', 'host_name', 'host_since',\n",
      "       'host_location', 'host_about', 'host_response_time',\n",
      "       'host_response_rate', 'host_acceptance_rate', 'host_is_superhost',\n",
      "       'host_thumbnail_url', 'host_picture_url', 'host_neighbourhood',\n",
      "       'host_listings_count', 'host_total_listings_count',\n",
      "       'host_verifications', 'host_has_profile_pic', 'host_identity_verified',\n",
      "       'street', 'neighbourhood', 'neighbourhood_cleansed',\n",
      "       'neighbourhood_group_cleansed', 'city', 'state', 'zipcode', 'market',\n",
      "       'smart_location', 'country_code', 'country', 'latitude', 'longitude',\n",
      "       'is_location_exact', 'property_type', 'room_type', 'accommodates',\n",
      "       'bathrooms', 'bedrooms', 'beds', 'bed_type', 'amenities', 'square_feet',\n",
      "       'price', 'weekly_price', 'monthly_price', 'security_deposit',\n",
      "       'cleaning_fee', 'guests_included', 'extra_people', 'minimum_nights',\n",
      "       'maximum_nights', 'calendar_updated', 'has_availability',\n",
      "       'availability_30', 'availability_60', 'availability_90',\n",
      "       'availability_365', 'calendar_last_scraped', 'number_of_reviews',\n",
      "       'first_review', 'last_review', 'review_scores_rating',\n",
      "       'review_scores_accuracy', 'review_scores_cleanliness',\n",
      "       'review_scores_checkin', 'review_scores_communication',\n",
      "       'review_scores_location', 'review_scores_value', 'requires_license',\n",
      "       'license', 'jurisdiction_names', 'instant_bookable',\n",
      "       'cancellation_policy', 'require_guest_profile_picture',\n",
      "       'require_guest_phone_verification', 'calculated_host_listings_count',\n",
      "       'reviews_per_month'],\n",
      "      dtype='object')\n"
     ]
    }
   ],
   "source": [
    "num_cols=df.shape[0] #Provide the number of columns in the dataset\n",
    "num_rows = df.shape[1]\n",
    "print(num_rows)\n",
    "print(num_cols)\n",
    "print(df.columns)"
   ]
  },
  {
   "cell_type": "markdown",
   "metadata": {},
   "source": [
    "Columns with nulls"
   ]
  },
  {
   "cell_type": "code",
   "execution_count": 53,
   "metadata": {},
   "outputs": [
    {
     "name": "stdout",
     "output_type": "stream",
     "text": [
      "{'host_is_superhost', 'license', 'host_listings_count', 'review_scores_accuracy', 'weekly_price', 'neighbourhood', 'property_type', 'xl_picture_url', 'zipcode', 'review_scores_value', 'review_scores_cleanliness', 'host_location', 'host_has_profile_pic', 'bathrooms', 'first_review', 'review_scores_checkin', 'review_scores_communication', 'square_feet', 'monthly_price', 'host_response_time', 'host_acceptance_rate', 'transit', 'cleaning_fee', 'host_total_listings_count', 'host_picture_url', 'summary', 'last_review', 'neighborhood_overview', 'host_response_rate', 'review_scores_rating', 'thumbnail_url', 'notes', 'host_name', 'review_scores_location', 'host_about', 'host_neighbourhood', 'space', 'reviews_per_month', 'bedrooms', 'medium_url', 'host_thumbnail_url', 'beds', 'host_identity_verified', 'host_since', 'security_deposit'}\n"
     ]
    }
   ],
   "source": [
    "nulls = set(df.columns[df.isnull().any()])#Provide a set of columns with missing values.\n",
    "print(nulls)"
   ]
  },
  {
   "cell_type": "markdown",
   "metadata": {},
   "source": [
    "Columns with many missing values"
   ]
  },
  {
   "cell_type": "code",
   "execution_count": 54,
   "metadata": {},
   "outputs": [
    {
     "name": "stdout",
     "output_type": "stream",
     "text": [
      "{'license', 'square_feet'}\n"
     ]
    }
   ],
   "source": [
    "most_missing_cols = set(df.columns[abs(df.isnull().sum())>0.7*len(df)])\n",
    "print(most_missing_cols)\n",
    "df=df.drop(most_missing_cols, axis=1)"
   ]
  },
  {
   "cell_type": "markdown",
   "metadata": {},
   "source": [
    "Check distributions of some features"
   ]
  },
  {
   "cell_type": "code",
   "execution_count": 55,
   "metadata": {
    "scrolled": true
   },
   "outputs": [
    {
     "data": {
      "image/png": "[encoded data removed]",
      "text/plain": [
       "<Figure size 432x288 with 1 Axes>"
      ]
     },
     "metadata": {
      "needs_background": "light"
     },
     "output_type": "display_data"
    }
   ],
   "source": [
    "plot_dist('cancellation_policy')"
   ]
  },
  {
   "cell_type": "code",
   "execution_count": 56,
   "metadata": {
    "scrolled": true
   },
   "outputs": [
    {
     "data": {
      "image/png": "[encoded data removed]",
      "text/plain": [
       "<Figure size 432x288 with 1 Axes>"
      ]
     },
     "metadata": {
      "needs_background": "light"
     },
     "output_type": "display_data"
    }
   ],
   "source": [
    "plot_dist('bedrooms')"
   ]
  },
  {
   "cell_type": "code",
   "execution_count": 57,
   "metadata": {},
   "outputs": [
    {
     "data": {
      "image/png": "[encoded data removed]",
      "text/plain": [
       "<Figure size 432x288 with 1 Axes>"
      ]
     },
     "metadata": {
      "needs_background": "light"
     },
     "output_type": "display_data"
    }
   ],
   "source": [
    "plot_dist('accommodates')"
   ]
  },
  {
   "cell_type": "code",
   "execution_count": 58,
   "metadata": {},
   "outputs": [
    {
     "data": {
      "image/png": "[encoded data removed]",
      "text/plain": [
       "<Figure size 432x288 with 1 Axes>"
      ]
     },
     "metadata": {
      "needs_background": "light"
     },
     "output_type": "display_data"
    }
   ],
   "source": [
    "plot_dist('property_type')"
   ]
  },
  {
   "cell_type": "markdown",
   "metadata": {},
   "source": [
    "Possible outcome columns related to price"
   ]
  },
  {
   "cell_type": "code",
   "execution_count": 60,
   "metadata": {},
   "outputs": [],
   "source": [
    "out=['price', 'weekly_price', 'monthly_price']"
   ]
  },
  {
   "cell_type": "code",
   "execution_count": 61,
   "metadata": {},
   "outputs": [
    {
     "name": "stdout",
     "output_type": "stream",
     "text": [
      "1517\n",
      "2009\n",
      "3818\n"
     ]
    }
   ],
   "source": [
    "dfm=df.loc[~df['monthly_price'].isnull()]\n",
    "print(len(dfm))\n",
    "dfw=df.loc[~df['weekly_price'].isnull()]\n",
    "print(len(dfw))\n",
    "print(len(df.loc[~df['price'].isnull()]))"
   ]
  },
  {
   "cell_type": "markdown",
   "metadata": {},
   "source": [
    "In Seattle the highest rental prices are in the summer, especially in June. The price change can be noticeable during the year. "
   ]
  },
  {
   "cell_type": "code",
   "execution_count": 62,
   "metadata": {},
   "outputs": [
    {
     "data": {
      "text/plain": [
       "<AxesSubplot:xlabel='month'>"
      ]
     },
     "execution_count": 62,
     "metadata": {},
     "output_type": "execute_result"
    },
    {
     "data": {
      "text/plain": [
       "<Figure size 432x288 with 0 Axes>"
      ]
     },
     "metadata": {},
     "output_type": "display_data"
    },
    {
     "data": {
      "image/png": "[encoded data removed]",
      "text/plain": [
       "<Figure size 432x288 with 1 Axes>"
      ]
     },
     "metadata": {
      "needs_background": "light"
     },
     "output_type": "display_data"
    }
   ],
   "source": [
    "dfcal=dfcal[['id', 'month', 'price']].drop_duplicates()\n",
    "mp = dfcal[['month', 'price']].groupby('month', as_index=False).mean()\n",
    "plt.figure()\n",
    "mp.plot(x='month', y='price')"
   ]
  },
  {
   "cell_type": "markdown",
   "metadata": {},
   "source": [
    "Check which month has most postings"
   ]
  },
  {
   "cell_type": "code",
   "execution_count": 63,
   "metadata": {},
   "outputs": [
    {
     "name": "stdout",
     "output_type": "stream",
     "text": [
      "3623\n"
     ]
    },
    {
     "data": {
      "text/plain": [
       "<Figure size 432x288 with 0 Axes>"
      ]
     },
     "metadata": {},
     "output_type": "display_data"
    },
    {
     "data": {
      "image/png": "[encoded data removed]",
      "text/plain": [
       "<Figure size 432x288 with 1 Axes>"
      ]
     },
     "metadata": {
      "needs_background": "light"
     },
     "output_type": "display_data"
    }
   ],
   "source": [
    "cp = dfcal[['month', 'id']].drop_duplicates().groupby('month', as_index=False).count()\n",
    "plt.figure()\n",
    "cp.plot(x='month', y='id')\n",
    "print(cp['id'].max())"
   ]
  },
  {
   "cell_type": "markdown",
   "metadata": {},
   "source": [
    "Process numerical features "
   ]
  },
  {
   "cell_type": "code",
   "execution_count": 64,
   "metadata": {},
   "outputs": [],
   "source": [
    "df['host_response_rate'] = df['host_response_rate'].apply(lambda x: float(str(x).replace('%', '')))\n",
    "df['host_acceptance_rate'] = df['host_acceptance_rate'].apply(lambda x: float(str(x).replace('%', '')))\n",
    "df['host_since'] = df['host_since'].apply(lambda x:  str(x)[-4:])\n",
    "col_reviews=['number_of_reviews','review_scores_checkin', 'review_scores_communication', 'reviews_per_month','review_scores_value', 'review_scores_rating',  'review_scores_accuracy', 'review_scores_cleanliness', 'review_scores_location']\n"
   ]
  },
  {
   "cell_type": "markdown",
   "metadata": {},
   "source": [
    "Numerical features"
   ]
  },
  {
   "cell_type": "code",
   "execution_count": 65,
   "metadata": {
    "scrolled": true
   },
   "outputs": [
    {
     "name": "stdout",
     "output_type": "stream",
     "text": [
      "['host_id', 'host_response_rate', 'host_acceptance_rate', 'host_listings_count', 'host_total_listings_count', 'latitude', 'longitude', 'accommodates', 'bathrooms', 'bedrooms', 'beds', 'price', 'guests_included', 'minimum_nights', 'maximum_nights', 'availability_30', 'availability_60', 'availability_90', 'availability_365', 'number_of_reviews', 'review_scores_rating', 'review_scores_accuracy', 'review_scores_cleanliness', 'review_scores_checkin', 'review_scores_communication', 'review_scores_location', 'review_scores_value', 'calculated_host_listings_count', 'reviews_per_month']\n"
     ]
    }
   ],
   "source": [
    "#This feature works better (checked) and reduce number of features\n",
    "colf=df.select_dtypes(['float', 'int', 'int64']).columns\n",
    "colf =[i for i in colf if i not in ['id','scrape_id']]\n",
    "print(colf)\n",
    "fill_mean = lambda col: col.fillna(int(col.mean()))\n",
    "# Fill the mean\n",
    "df[colf] = df[colf].apply(fill_mean, axis=0)\n",
    "for i in col_reviews:\n",
    "    df[i]=df[i].fillna(0.0)"
   ]
  },
  {
   "cell_type": "code",
   "execution_count": 66,
   "metadata": {},
   "outputs": [],
   "source": [
    "df[\"host_total_listings_count\"]=df[\"host_total_listings_count\"].fillna(df[\"host_total_listings_count\"].mean())"
   ]
  },
  {
   "cell_type": "code",
   "execution_count": 67,
   "metadata": {},
   "outputs": [],
   "source": [
    "#This feature works better (checked) and reduce number of features\n",
    "df['totalrooms'] = df['bedrooms']+df['bathrooms']"
   ]
  },
  {
   "cell_type": "code",
   "execution_count": 68,
   "metadata": {},
   "outputs": [],
   "source": [
    "#'host_listings_count' is also excluded beacause it is almost the same as \"host_total_listings_count\" and it gives the same result\n",
    "df= df.drop(columns=['host_listings_count', 'scrape_id', 'host_id'])"
   ]
  },
  {
   "cell_type": "code",
   "execution_count": 69,
   "metadata": {},
   "outputs": [
    {
     "name": "stdout",
     "output_type": "stream",
     "text": [
      "['host_location', 'host_response_time', 'host_is_superhost', 'host_neighbourhood', 'host_verifications', 'street', 'neighbourhood', 'neighbourhood_cleansed', 'zipcode', 'smart_location', 'property_type', 'room_type', 'bed_type', 'has_availability', 'requires_license', 'jurisdiction_names', 'instant_bookable', 'cancellation_policy']\n"
     ]
    }
   ],
   "source": [
    "cat_col = df.select_dtypes(include=['object']).columns\n",
    "df[cat_col] = df[cat_col].fillna('none')\n",
    "text=['experiences_offered', 'summary', 'amenities', 'name',  'notes', 'description', 'neighborhood_overview', 'transit', 'host_about']\n",
    "exclude=['id', 'neighbourhood_group_cleansed', 'is_location_exact','host_identity_verified','require_guest_profile_picture', 'require_guest_phone_verification', 'security_deposit', 'calendar_last_scraped', 'calendar_updated', 'cleaning_fee','extra_people','host_since','first_review', 'last_review','market','listing_url', 'country', 'space', 'thumbnail_url', 'city', 'state', 'medium_url',  'host_has_profile_pic', 'host_thumbnail_url', 'country_code','host_url', 'host_name', 'description', 'last_scraped', 'picture_url', 'xl_picture_url', 'summary', 'host_picture_url']\n",
    "cat_col = [i for i in cat_col if i not in out+exclude+text]\n",
    "print(cat_col)"
   ]
  },
  {
   "cell_type": "markdown",
   "metadata": {},
   "source": [
    "Split dataset on train and test before merging with calendar data frame to have postings ids splited."
   ]
  },
  {
   "cell_type": "code",
   "execution_count": 70,
   "metadata": {},
   "outputs": [],
   "source": [
    "del df['price']\n",
    "df_train, df_test = train_test_split(df, test_size=0.2, random_state=41)  \n",
    "df_train=pd.merge(df_train, dfcal, on ='id').drop_duplicates()\n",
    "Y=df_train['price']\n",
    "df_test=pd.merge(df_test, dfcal, on ='id').drop_duplicates()"
   ]
  },
  {
   "cell_type": "code",
   "execution_count": 72,
   "metadata": {},
   "outputs": [],
   "source": [
    "col=df_train.select_dtypes(['float', 'int', 'int64']).columns\n",
    "#excluded also 'host_listings_count' beacause it is almost the same as \"host_total_listings_count\" and it gives the same result\n",
    "col =[i for i in col if i not in ['id', 'scrape_id', 'host_listings_count']]"
   ]
  },
  {
   "cell_type": "markdown",
   "metadata": {},
   "source": [
    " Heat map to find which features are high correlated and may not be be used all together. We will use light gradient boosting for further features selection. All this will be also checked on final resulst optimization."
   ]
  },
  {
   "cell_type": "code",
   "execution_count": 73,
   "metadata": {},
   "outputs": [
    {
     "name": "stderr",
     "output_type": "stream",
     "text": [
      "/var/folders/dl/4wf0xf5x4w1gxvpmbsyrqfl00000gn/T/ipykernel_36192/619263054.py:5: DeprecationWarning: `np.bool` is a deprecated alias for the builtin `bool`. To silence this warning, use `bool` by itself. Doing this will not modify any behavior and is safe. If you specifically wanted the numpy scalar type, use `np.bool_` here.\n",
      "Deprecated in NumPy 1.20; for more details and guidance: https://numpy.org/devdocs/release/1.20.0-notes.html#deprecations\n",
      "  mask = np.zeros_like(corr, dtype=np.bool)\n"
     ]
    },
    {
     "data": {
      "text/plain": [
       "<AxesSubplot:>"
      ]
     },
     "execution_count": 73,
     "metadata": {},
     "output_type": "execute_result"
    },
    {
     "data": {
      "image/png": "[encoded data removed]",
      "text/plain": [
       "<Figure size 792x648 with 2 Axes>"
      ]
     },
     "metadata": {
      "needs_background": "light"
     },
     "output_type": "display_data"
    }
   ],
   "source": [
    "#first to exclude \n",
    "#col = [i for i in col if i not in exc]\n",
    "corr = df_train[col].corr()\n",
    "# Generate a mask for the upper triangle\n",
    "mask = np.zeros_like(corr, dtype=np.bool)\n",
    "mask[np.triu_indices_from(mask)] = True\n",
    "# Set up the matplotlib figure\n",
    "f, ax = plt.subplots(figsize=(11, 9))\n",
    "\n",
    "# Generate a custom diverging colormap\n",
    "cmap = sns.diverging_palette(220, 10, as_cmap=True)\n",
    "\n",
    "# Draw the heatmap with the mask and correct aspect ratio\n",
    "sns.heatmap(corr, mask=mask, cmap=cmap, vmax=.3, center=0,\n",
    "            square=True, linewidths=.5, cbar_kws={\"shrink\": .5})"
   ]
  },
  {
   "cell_type": "markdown",
   "metadata": {},
   "source": [
    "Split data frame before merging the calendar, to have spliting by ids."
   ]
  },
  {
   "cell_type": "code",
   "execution_count": null,
   "metadata": {
    "scrolled": true
   },
   "outputs": [
    {
     "name": "stdout",
     "output_type": "stream",
     "text": [
      "['host_response_rate', 'host_acceptance_rate', 'host_total_listings_count', 'latitude', 'longitude', 'accommodates', 'bathrooms', 'bedrooms', 'beds', 'guests_included', 'minimum_nights', 'availability_30', 'availability_60', 'availability_90', 'availability_365', 'number_of_reviews', 'review_scores_rating', 'review_scores_accuracy', 'review_scores_cleanliness', 'review_scores_checkin', 'review_scores_communication', 'review_scores_location', 'review_scores_value', 'calculated_host_listings_count', 'reviews_per_month', 'totalrooms', 'month']\n",
      "27\n"
     ]
    }
   ],
   "source": [
    "#some columns will be in exc in case they are needed later\n",
    "exc=  ['id', 'maximum_nights', 'price']#['calculated_host_listings_count', 'review_scores_location', 'review_scores_communication', 'review_scores_accuracy',  'review_scores_cleanliness', 'host_listings_count', \"price\"]\n",
    "col = [i for i in col if i not in exc]\n",
    "print(col)\n",
    "#col = ['host_response_rate', 'latitude', 'longitude', 'accommodates', 'month', 'totalrooms', 'number_of_reviews', 'availability_365', 'availability_60', 'review_scores_rating', 'minimum_nights', 'host_total_listings_count']\n",
    "X_num=df_train[col]\n",
    "Y=df_train[\"price\"]\n",
    "Y_test=df_test[\"price\"]\n",
    "X_test=df_test[col]\n",
    "print(len(col))\n",
    "#model = lgb.LGBMRegressor(boosting_type ='gbdt', learning_rate = 0.1, num_leaves=32, max_depth =5)#DecisionTreeClassifier(min_samples_split=4, max_depth=8,  class_weight={0: 1, 1: 4})#\n",
    "model=RandomForestRegressor(n_estimators=100, \n",
    "                               criterion='mse', \n",
    "                               random_state=3, \n",
    "                               n_jobs=-1)\n",
    "score, test_score, y_pred = model_eval(X_num, Y, X_test, Y_test, model)\n",
    "print('all')\n",
    "print('numerical train crossvalidation')\n",
    "print(np.mean(score))\n",
    "print('numerical test')\n",
    "print(test_score)"
   ]
  },
  {
   "cell_type": "code",
   "execution_count": null,
   "metadata": {
    "scrolled": true
   },
   "outputs": [],
   "source": [
    "#remove lowest importance values and some of highly correlated, until we have the best result at the end\n",
    "exc=  ['beds', 'number_of_reviews', 'bathrooms', 'availability_30', 'bedrooms', 'calculated_host_listings_count', 'host_id','maximum_nights', 'host_location' ,'host_acceptance_rate', 'calculated_host_listings_count',  'review_scores_checkin', 'price', 'review_scores_value', 'availability_60', 'review_scores_cleanliness', 'review_scores_location', 'review_scores_communication', 'review_scores_accuracy',   \"price\"]\n",
    "col1 = [i for i in col if i not in exc]\n",
    "print(col1)\n",
    "X_num=df_train[col1]\n",
    "X_test = df_test[col1]\n",
    "#model\n",
    "#model_num = lgb.LGBMRegressor(boosting_type ='gbdt', learning_rate = 0.1, num_leaves=32, max_depth =5)#DecisionTreeClassifier(min_samples_split=4, max_depth=8,  class_weight={0: 1, 1: 4})#XGBClassifier(max_depth=5, learning_rate=0.01,  sample_weight=w_array)#DecisionTreeClassifier(max_depth=5,  class_weight={0: 1, 1: 3.5}) #ExtraTreesClassifier(n_estimators=100, max_depth=5)\n",
    "model_num=RandomForestRegressor(n_estimators=100, \n",
    "                               criterion='mse', \n",
    "                               random_state=3, \n",
    "                               n_jobs=-1)\n",
    "score, test_score, y_pred = model_eval(X_num, Y, X_test, Y_test, model_num)\n",
    "print('selected features')\n",
    "print('numerical cross validation')\n",
    "print(np.mean(score))\n",
    "print('numerical test')\n",
    "print(test_score)"
   ]
  },
  {
   "cell_type": "code",
   "execution_count": null,
   "metadata": {},
   "outputs": [],
   "source": [
    "#ax = lgb.plot_importance(model, max_num_features=26)\n",
    "#plt.show()\n",
    "plot_rf_features(X_num, model_num)"
   ]
  },
  {
   "cell_type": "code",
   "execution_count": null,
   "metadata": {},
   "outputs": [],
   "source": [
    "df=df.drop(['experiences_offered'], axis=1)"
   ]
  },
  {
   "cell_type": "markdown",
   "metadata": {},
   "source": [
    "Categorical features encoding"
   ]
  },
  {
   "cell_type": "code",
   "execution_count": null,
   "metadata": {
    "scrolled": true
   },
   "outputs": [],
   "source": [
    "le  = LabelEncoder()\n",
    "for i in cat_col:\n",
    "    df_train[i]=le.fit_transform(df_train[i].astype('category'))\n",
    "    df_test[i]=le.fit_transform(df_test[i].astype('category'))\n",
    "Xtrain_cat = df_train[cat_col]\n",
    "Xtest_cat = df_test[cat_col]"
   ]
  },
  {
   "cell_type": "markdown",
   "metadata": {},
   "source": [
    "All together with lowest importance values removed"
   ]
  },
  {
   "cell_type": "code",
   "execution_count": null,
   "metadata": {},
   "outputs": [],
   "source": [
    "exclude=['id', 'host_location', 'cancellation_policy', 'neighbourhood', 'smart_location', 'has_availability', 'requires_license', 'jurisdiction_names', 'instant_bookable',  'host_is_superhost',  'bed_type',  'is_location_exact','host_identity_verified','require_guest_profile_picture', 'require_guest_phone_verification', 'security_deposit', 'calendar_last_scraped', 'calendar_updated', 'cleaning_fee','extra_people','host_since','first_review', 'last_review','market','listing_url', 'country', 'space', 'thumbnail_url', 'city', 'state', 'medium_url',  'host_has_profile_pic', 'host_thumbnail_url', 'country_code','host_url', 'host_name', 'description', 'last_scraped', 'picture_url', 'xl_picture_url', 'summary', 'host_picture_url']\n",
    "cat_col =[i for i in cat_col if i not in exclude]\n",
    "print(cat_col)\n",
    "#model\n",
    "X=df_train[cat_col+col1]\n",
    "X_test = df_test[cat_col+col1]\n",
    "model=RandomForestRegressor(n_estimators=100, \n",
    "                               criterion='mse', \n",
    "                               random_state=3, \n",
    "                               n_jobs=-1)\n",
    "#cross_val\n",
    "score, test_score, y_pred1 = model_eval(X, Y, X_test, Y_test, model)\n",
    "model_lgb = lgb.LGBMRegressor(boosting_type ='gbdt', learning_rate = 0.1, num_leaves=31, max_depth =8)#DecisionTreeClassifier(min_samples_split=4, max_depth=8,  class_weight={0: 1, 1: 4})#\n",
    "#cross_val\n",
    "#score, test_score, y_pred = model_eval(X, Y, X_test, Y_test, model)\n",
    "print('numerical and categorical features together')\n",
    "print('crossvalidation')\n",
    "print(np.mean(score))\n",
    "print('test')\n",
    "print(test_score)\n",
    "\n",
    "score, test_score, y_pred = model_eval(X, Y, X_test, Y_test, model_lgb)\n",
    "print('numerical and categorical features together LGB')\n",
    "print('crossvalidation')\n",
    "print(np.mean(score))\n",
    "print('test')\n",
    "print(test_score)\n"
   ]
  },
  {
   "cell_type": "markdown",
   "metadata": {},
   "source": [
    "In figures below the feature importance in Random Forest and Light Gradient Boosting is shown after removing weakest features that improved cross validation test result"
   ]
  },
  {
   "cell_type": "code",
   "execution_count": null,
   "metadata": {},
   "outputs": [],
   "source": [
    "#ax = lgb.plot_importance(model, max_num_features=26)\n",
    "#plt.show()\n",
    "plot_features(X, model, \"Random Forest\")"
   ]
  },
  {
   "cell_type": "code",
   "execution_count": null,
   "metadata": {},
   "outputs": [],
   "source": [
    "plot_features(X, model_lgb, \" Light Gradient Boosting\")"
   ]
  },
  {
   "cell_type": "markdown",
   "metadata": {},
   "source": [
    "Text features processing"
   ]
  },
  {
   "cell_type": "code",
   "execution_count": null,
   "metadata": {},
   "outputs": [],
   "source": [
    "X_train_desc, X_test_desc, count_descp = tfidf_text_transform(df_train[\"description\"], df_test[\"description\"], 130)\n",
    "X_train_name, X_test_name, count_name = tfidf_text_transform(df_train[\"name\"], df_test[\"name\"], 130)\n",
    "X_train_transit, X_test_transit, count_transit = tfidf_text_transform(df_train[\"transit\"], df_test[\"transit\"], 70)\n",
    "X_train_am, X_test_am, count_am = tfidf_text_transform(df_train['amenities'], df_test['amenities'], 20)\n",
    "X_train_s, X_test_s, count_s = tfidf_text_transform(df_train['summary'], df_test['summary'], 20)\n",
    "n=10\n",
    "most_popular_words(count_descp, X_train_desc, n)\n",
    "most_popular_words(count_name, X_train_name, n)\n",
    "most_popular_words(count_transit, X_train_transit, n)\n",
    "most_popular_words(count_s, X_train_s, n)\n"
   ]
  },
  {
   "cell_type": "markdown",
   "metadata": {},
   "source": [
    "Adding text feature to previous model did not improved result. Too many features can result to overfitting and text features work better with different LGB parameters. As the result the best final R2 test score is 0.736"
   ]
  },
  {
   "cell_type": "code",
   "execution_count": null,
   "metadata": {},
   "outputs": [],
   "source": [
    "X1=hstack((              \n",
    "                         X_train_s,\n",
    "                         X_train_am,\n",
    "                         X_train_transit,      \n",
    "                         X_train_name,\n",
    "                         X_train_desc\n",
    "          )).tocsr()\n",
    "X_test1=hstack((         \n",
    "                         X_test_s,\n",
    "                         X_test_am,\n",
    "                         X_test_transit,      \n",
    "                         X_test_name,\n",
    "                         X_test_desc\n",
    "          )).tocsr()\n",
    "model_text = lgb.LGBMRegressor(boosting_type ='gbdt', learning_rate = 0.3, num_leaves=31, max_depth = 8)\n",
    "score1, test_score1, ypred_text = model_eval(X1, Y, X_test1, Y_test, model_text)\n",
    "#X_train, X_test, y_train, y_test = train_test_split(X1, Y, test_size=0.2, random_state=42)\n",
    "print('score on text features')\n",
    "#print(score)\n",
    "print(np.mean(score1))\n",
    "print('cross validation score')\n",
    "print(test_score1)\n",
    "y_predf = 0.8*y_pred+0.2*ypred_text\n",
    "score = r2_score(Y_test, y_predf)\n",
    "print('superposition of models')\n",
    "print(score)"
   ]
  },
  {
   "cell_type": "code",
   "execution_count": null,
   "metadata": {},
   "outputs": [],
   "source": []
  }
 ],
 "metadata": {
  "kernelspec": {
   "display_name": "Python 3 (ipykernel)",
   "language": "python",
   "name": "python3"
  },
  "language_info": {
   "codemirror_mode": {
    "name": "ipython",
    "version": 3
   },
   "file_extension": ".py",
   "mimetype": "text/x-python",
   "name": "python",
   "nbconvert_exporter": "python",
   "pygments_lexer": "ipython3",
   "version": "3.9.12"
  }
 },
 "nbformat": 4,
 "nbformat_minor": 4
}
